{
  "cells": [
    {
      "cell_type": "markdown",
      "source": [
        "### Project-DataScience-Bowl"
      ],
      "metadata": {}
    },
    {
      "cell_type": "markdown",
      "source": [
        "### File descriptions\n",
        "\n",
        "* /stage1_train/* - training set images (images and annotated masks)\n",
        "\n",
        "* /stage1_test/* - stage 1 test set images (images only, you are predicting the masks)\n",
        "\n",
        "* stage1_sample_submission.csv - a submission file containing the ImageIds for which you must predict during stage 1\n",
        "\n",
        "* stage1_train_labels.csv - a file showing the run-length encoded representation of the training images. This is provided as a convenience and is redundant with the mask image files.\n",
        "\n",
        "* stage2_sample_submission.csv (released later) - a submission file containing the ImageIds for which you must predict during stage 2\n",
        "\n",
        "* /stage2_test/* (released later) - stage 2 test set images (images only, you are predicting the masks)\n",
        "\n"
      ],
      "metadata": {}
    },
    {
      "cell_type": "code",
      "source": [
        "# Import required libraries\n",
        "import pandas as pd\n",
        "import zipfile"
      ],
      "outputs": [],
      "execution_count": 6,
      "metadata": {}
    },
    {
      "cell_type": "code",
      "source": [
        "# Unzip the stage1 testing images\n",
        "zip_ref = zipfile.ZipFile(\"../data/stage1_test.zip\", 'r')\n",
        "zip_ref.extractall(\"../data/stage1_test/\")\n",
        "zip_ref.close()"
      ],
      "outputs": [],
      "execution_count": 7,
      "metadata": {}
    },
    {
      "cell_type": "code",
      "source": [
        "# Unzip the training images\n",
        "zip_ref = zipfile.ZipFile(\"../data/stage1_train.zip\", 'r')\n",
        "zip_ref.extractall(\"../data/stage1_train/\")\n",
        "zip_ref.close()"
      ],
      "outputs": [],
      "execution_count": 8,
      "metadata": {
        "collapsed": false,
        "outputHidden": false,
        "inputHidden": false
      }
    },
    {
      "cell_type": "code",
      "source": [
        "# Import Stage 1 training labels\n",
        "train_labels = pd.read_csv(\"../data/stage1_train_labels.csv\")"
      ],
      "outputs": [],
      "execution_count": 3,
      "metadata": {
        "collapsed": false,
        "outputHidden": false,
        "inputHidden": false
      }
    },
    {
      "cell_type": "code",
      "source": [
        "# Explore the structure of the data\n",
        "train_labels.head()"
      ],
      "outputs": [
        {
          "output_type": "execute_result",
          "execution_count": 4,
          "data": {
            "text/plain": [
              "                                             ImageId  \\\n",
              "0  00071198d059ba7f5914a526d124d28e6d010c92466da2...   \n",
              "1  00071198d059ba7f5914a526d124d28e6d010c92466da2...   \n",
              "2  00071198d059ba7f5914a526d124d28e6d010c92466da2...   \n",
              "3  00071198d059ba7f5914a526d124d28e6d010c92466da2...   \n",
              "4  00071198d059ba7f5914a526d124d28e6d010c92466da2...   \n",
              "\n",
              "                                       EncodedPixels  \n",
              "0  6908 1 7161 8 7417 8 7672 9 7928 9 8184 9 8440...  \n",
              "1  36269 7 36523 11 36778 13 37033 15 37288 17 37...  \n",
              "2  19919 6 20174 8 20429 10 20685 11 20941 12 211...  \n",
              "3  18671 6 18926 8 19181 9 19436 10 19691 11 1994...  \n",
              "4            40158 3 40413 5 40669 5 40925 5 41182 3  "
            ],
            "text/html": [
              "<div>\n",
              "<style scoped>\n",
              "    .dataframe tbody tr th:only-of-type {\n",
              "        vertical-align: middle;\n",
              "    }\n",
              "\n",
              "    .dataframe tbody tr th {\n",
              "        vertical-align: top;\n",
              "    }\n",
              "\n",
              "    .dataframe thead th {\n",
              "        text-align: right;\n",
              "    }\n",
              "</style>\n",
              "<table border=\"1\" class=\"dataframe\">\n",
              "  <thead>\n",
              "    <tr style=\"text-align: right;\">\n",
              "      <th></th>\n",
              "      <th>ImageId</th>\n",
              "      <th>EncodedPixels</th>\n",
              "    </tr>\n",
              "  </thead>\n",
              "  <tbody>\n",
              "    <tr>\n",
              "      <th>0</th>\n",
              "      <td>00071198d059ba7f5914a526d124d28e6d010c92466da2...</td>\n",
              "      <td>6908 1 7161 8 7417 8 7672 9 7928 9 8184 9 8440...</td>\n",
              "    </tr>\n",
              "    <tr>\n",
              "      <th>1</th>\n",
              "      <td>00071198d059ba7f5914a526d124d28e6d010c92466da2...</td>\n",
              "      <td>36269 7 36523 11 36778 13 37033 15 37288 17 37...</td>\n",
              "    </tr>\n",
              "    <tr>\n",
              "      <th>2</th>\n",
              "      <td>00071198d059ba7f5914a526d124d28e6d010c92466da2...</td>\n",
              "      <td>19919 6 20174 8 20429 10 20685 11 20941 12 211...</td>\n",
              "    </tr>\n",
              "    <tr>\n",
              "      <th>3</th>\n",
              "      <td>00071198d059ba7f5914a526d124d28e6d010c92466da2...</td>\n",
              "      <td>18671 6 18926 8 19181 9 19436 10 19691 11 1994...</td>\n",
              "    </tr>\n",
              "    <tr>\n",
              "      <th>4</th>\n",
              "      <td>00071198d059ba7f5914a526d124d28e6d010c92466da2...</td>\n",
              "      <td>40158 3 40413 5 40669 5 40925 5 41182 3</td>\n",
              "    </tr>\n",
              "  </tbody>\n",
              "</table>\n",
              "</div>"
            ]
          },
          "metadata": {}
        }
      ],
      "execution_count": 4,
      "metadata": {}
    },
    {
      "cell_type": "code",
      "source": [
        "# Explore the structure of the data\n",
        "train_labels.describe()"
      ],
      "outputs": [
        {
          "output_type": "execute_result",
          "execution_count": 5,
          "data": {
            "text/plain": [
              "                                                  ImageId  \\\n",
              "count                                               29461   \n",
              "unique                                                670   \n",
              "top     a102535b0e88374bea4a1cfd9ee7cb3822ff54f4ab2a98...   \n",
              "freq                                                  375   \n",
              "\n",
              "                                  EncodedPixels  \n",
              "count                                     29461  \n",
              "unique                                    29460  \n",
              "top     60219 3 60474 5 60730 5 60986 5 61243 3  \n",
              "freq                                          2  "
            ],
            "text/html": [
              "<div>\n",
              "<style scoped>\n",
              "    .dataframe tbody tr th:only-of-type {\n",
              "        vertical-align: middle;\n",
              "    }\n",
              "\n",
              "    .dataframe tbody tr th {\n",
              "        vertical-align: top;\n",
              "    }\n",
              "\n",
              "    .dataframe thead th {\n",
              "        text-align: right;\n",
              "    }\n",
              "</style>\n",
              "<table border=\"1\" class=\"dataframe\">\n",
              "  <thead>\n",
              "    <tr style=\"text-align: right;\">\n",
              "      <th></th>\n",
              "      <th>ImageId</th>\n",
              "      <th>EncodedPixels</th>\n",
              "    </tr>\n",
              "  </thead>\n",
              "  <tbody>\n",
              "    <tr>\n",
              "      <th>count</th>\n",
              "      <td>29461</td>\n",
              "      <td>29461</td>\n",
              "    </tr>\n",
              "    <tr>\n",
              "      <th>unique</th>\n",
              "      <td>670</td>\n",
              "      <td>29460</td>\n",
              "    </tr>\n",
              "    <tr>\n",
              "      <th>top</th>\n",
              "      <td>a102535b0e88374bea4a1cfd9ee7cb3822ff54f4ab2a98...</td>\n",
              "      <td>60219 3 60474 5 60730 5 60986 5 61243 3</td>\n",
              "    </tr>\n",
              "    <tr>\n",
              "      <th>freq</th>\n",
              "      <td>375</td>\n",
              "      <td>2</td>\n",
              "    </tr>\n",
              "  </tbody>\n",
              "</table>\n",
              "</div>"
            ]
          },
          "metadata": {}
        }
      ],
      "execution_count": 5,
      "metadata": {}
    },
    {
      "cell_type": "code",
      "source": [],
      "outputs": [],
      "execution_count": null,
      "metadata": {
        "collapsed": false,
        "outputHidden": false,
        "inputHidden": false
      }
    }
  ],
  "metadata": {
    "kernelspec": {
      "name": "python3",
      "language": "python",
      "display_name": "Python 3"
    },
    "language_info": {
      "name": "python",
      "version": "3.6.3",
      "mimetype": "text/x-python",
      "codemirror_mode": {
        "name": "ipython",
        "version": 3
      },
      "pygments_lexer": "ipython3",
      "nbconvert_exporter": "python",
      "file_extension": ".py"
    },
    "kernel_info": {
      "name": "python3"
    },
    "nteract": {
      "version": "0.7.1"
    }
  },
  "nbformat": 4,
  "nbformat_minor": 2
}